{
 "cells": [
  {
   "cell_type": "raw",
   "metadata": {},
   "source": [
    "1. In the below elements which of them are values or an expression? eg:- values can be integer or string and expressions will be mathematical operators.\n",
    "\n",
    "* -Expression\n",
    "'hello' -Values\n",
    "-87.8 -Values\n",
    "- -Expression\n",
    "/ -Expression\n",
    "+ -Expression\n",
    "6 -Values"
   ]
  },
  {
   "cell_type": "raw",
   "metadata": {},
   "source": [
    "2. What is the difference between string and variable?\n",
    "\n",
    "Variable means it holds a value of any datatype and string is the value inside the quotes.\n",
    "Example:a='ABC'\n",
    "Here a is the variable and 'ABC' is the string."
   ]
  },
  {
   "cell_type": "raw",
   "metadata": {},
   "source": [
    "3. Describe three different data types.\n",
    "\n",
    "1)Strings(str):Text anything between quotes(single or double)\n",
    "example-\"Hi\"\n",
    "2)integer(int):Whole numbers.\n",
    "example-3454\n",
    "3)Float(float):Decimal numbers.\n",
    "example-34.39"
   ]
  },
  {
   "cell_type": "raw",
   "metadata": {},
   "source": [
    "4. What is an expression made up of? What do all expressions do?\n",
    "\n",
    "An expression is a combination of values, variables, operators, and calls to functions.\n",
    "An expression is an instruction that combines values and operators and always evaluates down to a single value.\n",
    "Example:6+6\n",
    "This expression evaluates down to the single integer value 12."
   ]
  },
  {
   "cell_type": "raw",
   "metadata": {},
   "source": [
    "5. This assignment statements, like spam = 10. What is the difference between an expression and a statement?\n",
    "\n",
    "spam = 10 is a statement where spam is a variable that holds the value of the expression 10. Since 10 is a simple expression, meaning it contains no operations, nothing is actually evaluated, so spam is just assigned to 10.\n",
    "Expression-Evaluation of an expression always Produces or returns a result value. \n",
    "Statement-Execution of a statement may or may not produces or displays a result value, it only does whatever the statement says."
   ]
  },
  {
   "cell_type": "raw",
   "metadata": {},
   "source": [
    "6. After running the following code, what does the variable bacon contain?\n",
    "bacon = 22\n",
    "bacon + 1\n",
    "\n",
    "After running the following code,the variable bacon contains 23."
   ]
  },
  {
   "cell_type": "raw",
   "metadata": {},
   "source": [
    "7. What should the values of the following two terms be?\n",
    "'spam' + 'spamspam'\n",
    "'spam' * 3\n",
    "\n",
    "For 'spam' + 'spamspam' the output is 'spamspamspam'\n",
    "For 'spam' * 3 the output is 'spamspamspam'"
   ]
  },
  {
   "cell_type": "raw",
   "metadata": {},
   "source": [
    "8. Why is eggs a valid variable name while 100 is invalid?\n",
    "\n",
    "Because variables can not begin with numbers.The first character of the variable can be an alphabet or (_) underscore.therfore eggs ia a valid variable and 100 is invalid."
   ]
  },
  {
   "cell_type": "raw",
   "metadata": {},
   "source": [
    "9. What three functions can be used to get the integer, floating-point number, or string version of a value?\n",
    "\n",
    "int() function can be used to get the integer version of the value\n",
    "float() function can be used to get the floating-point number version of a value\n",
    "str() function can be used to get the string version of the value."
   ]
  },
  {
   "cell_type": "raw",
   "metadata": {},
   "source": [
    "10. Why does this expression cause an error? How can you fix it?\n",
    "'I have eaten ' + 99 + ' burritos.'\n",
    "\n",
    "Because here 99 is int and can only concatenate same datatype that is str to str and not str to int.\n",
    "This can be fixed by changing the datatype of 99(int) to str that is '99'.\n",
    "'I have eaten ' + '99' + ' burritos.'"
   ]
  }
 ],
 "metadata": {
  "kernelspec": {
   "display_name": "Python 3",
   "language": "python",
   "name": "python3"
  },
  "language_info": {
   "codemirror_mode": {
    "name": "ipython",
    "version": 3
   },
   "file_extension": ".py",
   "mimetype": "text/x-python",
   "name": "python",
   "nbconvert_exporter": "python",
   "pygments_lexer": "ipython3",
   "version": "3.7.3"
  }
 },
 "nbformat": 4,
 "nbformat_minor": 2
}
